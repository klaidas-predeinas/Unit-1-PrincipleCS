{
 "cells": [
  {
   "cell_type": "markdown",
   "metadata": {},
   "source": [
    "# task(1)"
   ]
  },
  {
   "cell_type": "code",
   "execution_count": 42,
   "metadata": {},
   "outputs": [
    {
     "name": "stdout",
     "output_type": "stream",
     "text": [
      "do you want to roll the diceyes\n",
      "2\n",
      "do you want to roll the diceyes\n",
      "6\n",
      "do you want to roll the dicees\n",
      "good bye\n"
     ]
    }
   ],
   "source": [
    "from random import randint\n",
    "\n",
    "while True:\n",
    "    roll_dice = input(\"do you want to roll a dice?: \").lower()\n",
    "    if roll_dice == \"yes\":\n",
    "        print(randint(0, 6))\n",
    "    elif roll_dice == \"no\":\n",
    "        print(\"good bye\")\n",
    "        break\n",
    "    else:\n",
    "        print(\"try again\")"
   ]
  },
  {
   "cell_type": "code",
   "execution_count": 43,
   "metadata": {},
   "outputs": [
    {
     "name": "stdout",
     "output_type": "stream",
     "text": [
      "What is the temperature?: 25\n",
      "You can wear shorts and a hat.\n"
     ]
    }
   ],
   "source": [
    "temp = int(input(\"What is the temperature?: \"))\n",
    "if temp >= 25:\n",
    "    print(\"You can wear shorts and a hat.\")\n",
    "elif temp < 25 and temp >= 20:\n",
    "    print(\"You can wear trousers, with a jumper\")\n",
    "elif temp < 20:\n",
    "    print(\"You should wear trosers, jumper and a coat\")"
   ]
  },
  {
   "cell_type": "markdown",
   "metadata": {},
   "source": [
    "## Plan\n",
    "- ask user if they have A level maths or A leve biology or A level CS\n",
    "- if all 3 tell user they can do all 3\n",
    "- if maths and CS then you can do CS\n",
    "- if maths and biology you can do medicine\n",
    "- if cs and biology you can do computaional biology\n",
    "\n",
    "START\n",
    "\n",
    "    INPUT maths \"did you do A level Maths?\"\n",
    "    INPUT biology \"did you do A level Biology?\"\n",
    "    INPUT CS \"did you do A level/btec Computer Science?\"\n",
    "    \n",
    "    if maths == \"yes\" and CS == \"yes\" then\n",
    "        print \"you can do Computer science in university\"\n",
    "    if maths == \"yes\" and biology == \"yes\" then\n",
    "        print \"you can go study medicine in university\"\n",
    "    if CS == \"yes\" and biology == \"yes\" then\n",
    "        print \"you can study computational biology\"\n",
    "    if maths == \"yes\" and CS == \"yes\" and biology == \"yes\" then\n",
    "        print \"you can study computer science, computational biology and     medicine\"\n",
    "    otherwise do\n",
    "        print \"you are unable to study any of them.\n",
    "END"
   ]
  },
  {
   "cell_type": "code",
   "execution_count": 45,
   "metadata": {
    "scrolled": false
   },
   "outputs": [
    {
     "name": "stdout",
     "output_type": "stream",
     "text": [
      "did you do A level Maths?: yes\n",
      "did you do A level Biology?: no\n",
      "did you do A level/btec Computer Science?: yes\n",
      "you can do Computer science in university\n"
     ]
    }
   ],
   "source": [
    "maths = input(\"did you do A level Maths?: \")\n",
    "biology = input(\"did you do A level Biology?: \")\n",
    "CS = input(\"did you do A level/btec Computer Science?: \")\n",
    "\n",
    "if maths == \"yes\" and CS == \"yes\":\n",
    "    print(\"you can do Computer science in university\")\n",
    "elif maths == \"yes\" and biology == \"yes\":\n",
    "    print(\"you can go study medicine in university\")\n",
    "elif CS == \"yes\" and biology == \"yes\":\n",
    "    print(\"you can study computational biology\")\n",
    "elif maths == \"yes\" and CS == \"yes\" and biology == \"yes\":\n",
    "    print(\"you can study computer science, computational biology and medicine\")\n",
    "else:\n",
    "    print(\"you are unable to study Computer Science, Computational biology and medicine in University.\")\n"
   ]
  },
  {
   "cell_type": "code",
   "execution_count": 52,
   "metadata": {},
   "outputs": [
    {
     "name": "stdout",
     "output_type": "stream",
     "text": [
      "1 *2 *3 *4 *5 *6 *7 *8 *9 *10 *11 *12 *13 *14 *15 *16 *17 *18 *19 *20 *21 *22 *23 *24 *25 *26 *27 *28 *29 *30 *31 *32 *33 *34 *35 *36 *37 *38 *39 *40 *41 *42 *43 *44 *45 *46 *47 *48 *49 *50 *51 *52 *53 *54 *55 *56 *57 *58 *59 *60 *61 *62 *63 *64 *65 *66 *67 *68 *69 *70 *71 *72 *73 *74 *75 *76 *77 *78 *79 *80 *81 *82 *83 *84 *85 *86 *87 *88 *89 *90 *91 *92 *93 *94 *95 *96 *97 *98 *99 *100 *"
     ]
    }
   ],
   "source": [
    "for i in range(1, 101):\n",
    "    print(i, \"*\", end=\"\")"
   ]
  },
  {
   "cell_type": "code",
   "execution_count": 63,
   "metadata": {},
   "outputs": [
    {
     "name": "stdout",
     "output_type": "stream",
     "text": [
      "enter a message: lol xD\n",
      "Dx lol"
     ]
    }
   ],
   "source": [
    "message = list(input(\"enter a message: \")) [::-1]\n",
    "\n",
    "for i in range(len(message)):\n",
    "    print(message[i], end=\"\")\n"
   ]
  },
  {
   "cell_type": "code",
   "execution_count": 65,
   "metadata": {},
   "outputs": [
    {
     "name": "stdout",
     "output_type": "stream",
     "text": [
      "10\n",
      "9\n",
      "8\n",
      "7\n",
      "6\n",
      "5\n",
      "4\n",
      "3\n",
      "2\n",
      "1\n",
      "blastoff\n"
     ]
    }
   ],
   "source": [
    "numbers = ['1', '2', '3', '4', '5', '6', '7', '8', '9', '10'] [::-1]\n",
    "\n",
    "for i in range(len(numbers)):\n",
    "    print(numbers[i])\n",
    "    if numbers[i] == '1':\n",
    "        print(\"blastoff\")"
   ]
  },
  {
   "cell_type": "code",
   "execution_count": 68,
   "metadata": {},
   "outputs": [
    {
     "name": "stdout",
     "output_type": "stream",
     "text": [
      "7\n",
      "14\n",
      "21\n",
      "28\n",
      "35\n",
      "42\n",
      "49\n",
      "56\n",
      "63\n",
      "70\n"
     ]
    }
   ],
   "source": [
    "while True:\n",
    "    for i in range(1, 11):\n",
    "        print(7 * i)\n",
    "    break"
   ]
  },
  {
   "cell_type": "code",
   "execution_count": 71,
   "metadata": {},
   "outputs": [
    {
     "name": "stdout",
     "output_type": "stream",
     "text": [
      "3  4  6  8  9  12  12  15  16  18  20  21  24  24  27  28  30  32  33  36  36  39  40  42  44  45  48  48  51  52  54  56  57  60  60  63  64  66  68  69  72  72  75  76  78  80  81  84  84  87  88  90  92  93  96  96  99  100  102  104  105  108  108  111  112  114  116  117  120  120  123  124  126  128  129  132  132  135  136  138  140  141  144  144  147  148  150  152  153  156  156  159  160  162  164  165  168  168  171  172  174  176  177  180  180  183  184  186  188  189  192  192  195  196  198  200  201  204  204  207  208  210  212  213  216  216  219  220  222  224  225  228  228  231  232  234  236  237  240  240  243  244  246  248  249  252  252  255  256  258  260  261  264  264  267  268  270  272  273  276  276  279  280  282  284  285  288  288  291  292  294  296  297  300  300  303  304  306  308  309  312  312  315  316  318  320  321  324  324  327  328  330  332  333  336  336  339  340  342  344  345  348  348  351  352  354  356  357  360  360  363  364  366  368  369  372  372  375  376  378  380  381  384  384  387  388  390  392  393  396  396  399  400  402  404  405  408  408  411  412  414  416  417  420  420  423  424  426  428  429  432  432  435  436  438  440  441  444  444  447  448  450  452  453  456  456  459  460  462  464  465  468  468  471  472  474  476  477  480  480  483  484  486  488  489  492  492  495  496  498  500  501  504  504  507  508  510  512  513  516  516  519  520  522  524  525  528  528  531  532  534  536  537  540  540  543  544  546  548  549  552  552  555  556  558  560  561  564  564  567  568  570  572  573  576  576  579  580  582  584  585  588  588  591  592  594  596  597  600  600  603  604  606  608  609  612  612  615  616  618  620  621  624  624  627  628  630  632  633  636  636  639  640  642  644  645  648  648  651  652  654  656  657  660  660  663  664  666  668  669  672  672  675  676  678  680  681  684  684  687  688  690  692  693  696  696  699  700  702  704  705  708  708  711  712  714  716  717  720  720  723  724  726  728  729  732  732  735  736  738  740  741  744  744  747  748  750  752  753  756  756  759  760  762  764  765  768  768  771  772  774  776  777  780  780  783  784  786  788  789  792  792  795  796  798  800  801  804  804  807  808  810  812  813  816  816  819  820  822  824  825  828  828  831  832  834  836  837  840  840  843  844  846  848  849  852  852  855  856  858  860  861  864  864  867  868  870  872  873  876  876  879  880  882  884  885  888  888  891  892  894  896  897  900  900  903  904  906  908  909  912  912  915  916  918  920  921  924  924  927  928  930  932  933  936  936  939  940  942  944  945  948  948  951  952  954  956  957  960  960  963  964  966  968  969  972  972  975  976  978  980  981  984  984  987  988  990  992  993  996  996  999  1000  "
     ]
    }
   ],
   "source": [
    "for i in range(1, 1001):\n",
    "    if i % 3 == 0:\n",
    "        print(i, \" \", end=\"\")\n",
    "    if i % 4 == 0:\n",
    "        print(i, \" \", end=\"\")"
   ]
  },
  {
   "cell_type": "code",
   "execution_count": 1,
   "metadata": {},
   "outputs": [
    {
     "name": "stdout",
     "output_type": "stream",
     "text": [
      "1\n",
      "4\n",
      "9\n",
      "16\n",
      "25\n",
      "36\n",
      "49\n",
      "64\n",
      "81\n",
      "100\n"
     ]
    }
   ],
   "source": [
    "for i in range(1,101):\n",
    "    num = i ** 0.5\n",
    "\n",
    "    if num % 1 == 0:\n",
    "        print(i)"
   ]
  },
  {
   "cell_type": "markdown",
   "metadata": {},
   "source": [
    "message = input(\"Enter a message to encode(DONT USE NUMBERS!!): \")\n",
    "shift = int(input(\"shift by: \"))\n",
    "\n",
    "alpha = list(\"abcdefghijklmnopqrstuvwxyz\")\n",
    "\n",
    "ceaser = []\n",
    "        \n",
    "listed = list(message)\n",
    "\n",
    "letterIndex = []\n",
    "\n",
    "for a in range(len(listed)):\n",
    "    for i in range(len(alpha)):\n",
    "        if listed[a] == alpha[i]:\n",
    "            letterIndex.append(i)\n",
    "\n",
    "for i in range(len(letterIndex)):\n",
    "    letterIndex[i] = letterIndex[i] + shift\n",
    "    if letterIndex[i] > 26:\n",
    "        letterIndex[i] = letterIndex[i] - 26\n",
    "\n",
    "for i in range(len(letterIndex)):\n",
    "    index = letterIndex[i]\n",
    "    cea = alpha[index]\n",
    "    ceaser.append(cea)\n",
    "\n",
    "for i in range(len(ceaser)):\n",
    "    print(ceaser[i], end='')\n"
   ]
  },
  {
   "cell_type": "code",
   "execution_count": 10,
   "metadata": {},
   "outputs": [
    {
     "name": "stdout",
     "output_type": "stream",
     "text": [
      "13 bob\n"
     ]
    }
   ],
   "source": [
    "name = \"bob\"\n",
    "age = \"13\"\n",
    "\n",
    "print('{1} {0}'.format(name,age))"
   ]
  },
  {
   "cell_type": "code",
   "execution_count": 22,
   "metadata": {},
   "outputs": [
    {
     "name": "stdout",
     "output_type": "stream",
     "text": [
      "10\n",
      "3.141925\n"
     ]
    }
   ],
   "source": [
    "radius = 10\n",
    "pi = 3.14192543589793\n",
    "\n",
    "print('{:d}'.format(radius))\n",
    "print('{:f}'.format(pi))"
   ]
  },
  {
   "cell_type": "code",
   "execution_count": 17,
   "metadata": {},
   "outputs": [
    {
     "name": "stdout",
     "output_type": "stream",
     "text": [
      "3.14\n"
     ]
    }
   ],
   "source": [
    "pi = 3.141592653589793\n",
    "print('{:0.2f}'.format(pi))"
   ]
  },
  {
   "cell_type": "code",
   "execution_count": 2,
   "metadata": {},
   "outputs": [
    {
     "name": "stdout",
     "output_type": "stream",
     "text": [
      "enter a number: 65\n",
      "enter some text: b\n",
      "98 , A\n"
     ]
    }
   ],
   "source": [
    "val = int(input(\"enter a number: \"))\n",
    "ch = input(\"enter some text: \")\n",
    "\n",
    "x=ord(ch)\n",
    "y=chr(val)\n",
    "\n",
    "print('{} , {}'.format(x,y))"
   ]
  },
  {
   "cell_type": "code",
   "execution_count": 36,
   "metadata": {},
   "outputs": [
    {
     "name": "stdout",
     "output_type": "stream",
     "text": [
      "enter message: klaidas\n"
     ]
    },
    {
     "data": {
      "text/plain": [
       "[107, 108, 97, 105, 100, 97, 115]"
      ]
     },
     "execution_count": 36,
     "metadata": {},
     "output_type": "execute_result"
    }
   ],
   "source": [
    "message = input(\"enter message: \")\n",
    "[ord(c) for c in message]"
   ]
  },
  {
   "cell_type": "code",
   "execution_count": null,
   "metadata": {
    "collapsed": true
   },
   "outputs": [],
   "source": []
  }
 ],
 "metadata": {
  "kernelspec": {
   "display_name": "Python 3",
   "language": "python",
   "name": "python3"
  }
 },
 "nbformat": 4,
 "nbformat_minor": 2
}
