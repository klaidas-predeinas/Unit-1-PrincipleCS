{
 "cells": [
  {
   "cell_type": "markdown",
   "metadata": {},
   "source": [
    "## task 2 ##"
   ]
  },
  {
   "cell_type": "code",
   "execution_count": 4,
   "metadata": {},
   "outputs": [
    {
     "name": "stdout",
     "output_type": "stream",
     "text": [
      "enter age: 18\n",
      "are you with an adult?: no\n",
      "you are able to go to the move.\n"
     ]
    }
   ],
   "source": [
    "age = int(input(\"enter age: \"))\n",
    "adult = input(\"are you with an adult?: \").lower()\n",
    "if age >= 18 or adult != \"no\" and adult == \"yes\":\n",
    "    print(\"you are able to go to the move.\")\n",
    "else:\n",
    "    print(\"sorry you cant go to the movie.\")"
   ]
  },
  {
   "cell_type": "code",
   "execution_count": 6,
   "metadata": {},
   "outputs": [
    {
     "name": "stdout",
     "output_type": "stream",
     "text": [
      "are you a boy or girl?: boy\n",
      "do you like pizza?: yes\n",
      "you can come to the party\n"
     ]
    }
   ],
   "source": [
    "gender = input(\"are you a boy or girl?: \").lower()\n",
    "pizza = input(\"do you like pizza?: \").lower()\n",
    "\n",
    "if gender == \"boy\" and pizza == \"yes\":\n",
    "    print(\"you can come to the party\")\n",
    "else:\n",
    "    print(\"sorry but you cant attend\")"
   ]
  },
  {
   "cell_type": "code",
   "execution_count": 8,
   "metadata": {},
   "outputs": [
    {
     "name": "stdout",
     "output_type": "stream",
     "text": [
      "enter the temperature: 20\n",
      "what is the chance of rain?: 80\n",
      "take your umbrella\n"
     ]
    }
   ],
   "source": [
    "temp = int(input(\"enter the temperature: \"))\n",
    "chance = int(input(\"what is the chance of rain?: \"))\n",
    "if temp > 17 and chance >= 80:\n",
    "    print(\"take your umbrella\")\n",
    "else:\n",
    "    print(\"have fun\")"
   ]
  }
 ],
 "metadata": {
  "kernelspec": {
   "display_name": "Python 3",
   "language": "python",
   "name": "python3"
  },
  "language_info": {
   "codemirror_mode": {
    "name": "ipython",
    "version": 3
   },
   "file_extension": ".py",
   "mimetype": "text/x-python",
   "name": "python",
   "nbconvert_exporter": "python",
   "pygments_lexer": "ipython3",
   "version": "3.5.2"
  }
 },
 "nbformat": 4,
 "nbformat_minor": 2
}
